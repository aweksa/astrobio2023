{
 "cells": [
  {
   "cell_type": "code",
   "execution_count": 1,
   "id": "f3d63f73-f892-4a8b-b6e0-3c5239110857",
   "metadata": {},
   "outputs": [],
   "source": [
    "import numpy as np\n",
    "import astropy.constants as const"
   ]
  },
  {
   "cell_type": "code",
   "execution_count": 33,
   "id": "2c71a41a-7f6e-48a1-b93d-8f17e8c10659",
   "metadata": {},
   "outputs": [],
   "source": [
    "newton_angle = 2*const.G.value*const.M_sun.value/(const.R_sun.value*const.c.value**2)\n",
    "einstein_angle = 4*const.G.value*const.M_sun.value/(const.R_sun.value*const.c.value**2)"
   ]
  },
  {
   "cell_type": "code",
   "execution_count": 34,
   "id": "62b3bb17-fd51-49b7-b42e-7bf80dbcbe68",
   "metadata": {},
   "outputs": [],
   "source": [
    "na_deg = np.rad2deg(newton_angle)\n",
    "ea_deg = np.rad2deg(einstein_angle) "
   ]
  },
  {
   "cell_type": "code",
   "execution_count": 35,
   "id": "bcccc208-1af8-496f-9e7a-53cf7ec6025d",
   "metadata": {},
   "outputs": [
    {
     "data": {
      "text/plain": [
       "0.00024322087854999785"
      ]
     },
     "execution_count": 35,
     "metadata": {},
     "output_type": "execute_result"
    }
   ],
   "source": [
    "na_deg"
   ]
  },
  {
   "cell_type": "code",
   "execution_count": 36,
   "id": "11085c5d-493d-474a-94dc-e4824db66448",
   "metadata": {},
   "outputs": [],
   "source": [
    "na_deg *= 60*60\n",
    "ea_deg *= 60*60"
   ]
  },
  {
   "cell_type": "code",
   "execution_count": 37,
   "id": "ccc200a2-f45f-4657-994e-18c7fea15efd",
   "metadata": {},
   "outputs": [
    {
     "name": "stdout",
     "output_type": "stream",
     "text": [
      "Ugao devijacije izracunat NJutnovom teorijom 0.8755951627799923 lucnih sekundi \n",
      "Ugao devijacije izracunat Ajnstajnovom teorijom 1.7511903255599846 lucnih sekundi\n"
     ]
    }
   ],
   "source": [
    "print(f\"Ugao devijacije izracunat NJutnovom teorijom {na_deg} lucnih sekundi \\nUgao devijacije izracunat Ajnstajnovom teorijom {ea_deg} lucnih sekundi\")"
   ]
  },
  {
   "cell_type": "code",
   "execution_count": 44,
   "id": "f8af6355-d2fc-49ee-8f6e-144b1b5f9601",
   "metadata": {},
   "outputs": [],
   "source": [
    "def find_angular_radius(M, Dls, Ds, Dl):\n",
    "    theta = np.sqrt((4*const.G.value*M/const.c.value**2)*(Dls/Ds/Dl))\n",
    "    ar_deg = np.rad2deg(theta)\n",
    "    ar_deg *= 60 * 60\n",
    "    return ar_deg"
   ]
  },
  {
   "cell_type": "code",
   "execution_count": 49,
   "id": "bad504d7-c5ec-4b43-8935-a81d09318bfa",
   "metadata": {},
   "outputs": [],
   "source": [
    "M = 0.3*const.M_sun.value\n",
    "Dl = 10*1000*const.pc.value\n",
    "Ds = 50*1000*const.pc.value\n",
    "Dls = Ds-Dl\n",
    "ar = find_angular_radius(M, Dls, Ds, Dl)"
   ]
  },
  {
   "cell_type": "code",
   "execution_count": 50,
   "id": "6c64ef51-1499-432c-9086-325223122db0",
   "metadata": {},
   "outputs": [
    {
     "data": {
      "text/plain": [
       "0.0004421000776312179"
      ]
     },
     "execution_count": 50,
     "metadata": {},
     "output_type": "execute_result"
    }
   ],
   "source": [
    "ar #lucnih sekundi"
   ]
  },
  {
   "cell_type": "code",
   "execution_count": 51,
   "id": "b2aa67b2-043d-4d06-b930-45b0367fd01c",
   "metadata": {},
   "outputs": [
    {
     "name": "stdout",
     "output_type": "stream",
     "text": [
      "Ugaoni poluprecnik Ajnstajnovog prstena za microlensing dogadjaj iz zadatka je 0.0004421000776312179 lucnih sekundi\n"
     ]
    }
   ],
   "source": [
    "print(f\"Ugaoni poluprecnik Ajnstajnovog prstena za microlensing dogadjaj iz zadatka je {ar} lucnih sekundi\")"
   ]
  },
  {
   "cell_type": "code",
   "execution_count": null,
   "id": "eedc5668-22c5-40b7-9938-2b1caee35270",
   "metadata": {},
   "outputs": [],
   "source": []
  }
 ],
 "metadata": {
  "kernelspec": {
   "display_name": "Python 3 (ipykernel)",
   "language": "python",
   "name": "python3"
  },
  "language_info": {
   "codemirror_mode": {
    "name": "ipython",
    "version": 3
   },
   "file_extension": ".py",
   "mimetype": "text/x-python",
   "name": "python",
   "nbconvert_exporter": "python",
   "pygments_lexer": "ipython3",
   "version": "3.9.12"
  }
 },
 "nbformat": 4,
 "nbformat_minor": 5
}
