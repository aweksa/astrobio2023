{
 "cells": [
  {
   "cell_type": "code",
   "execution_count": 14,
   "id": "3a55ccfd-065e-44bd-9d63-5db3f0caf05b",
   "metadata": {},
   "outputs": [],
   "source": [
    "import astropy.constants as const\n",
    "import numpy as np\n",
    "import matplotlib.pyplot as plt"
   ]
  },
  {
   "cell_type": "code",
   "execution_count": 11,
   "id": "6bbe8178-ceb0-4e27-a2c6-b73f4a979fc3",
   "metadata": {},
   "outputs": [],
   "source": [
    "def semi_amp(mass_star, a, inclination):\n",
    "    return velocity(mass_star, a)*np.sin(inclination);"
   ]
  },
  {
   "cell_type": "code",
   "execution_count": 10,
   "id": "56f95d72-1d87-402f-99f3-781b5db9b9af",
   "metadata": {},
   "outputs": [],
   "source": [
    "def velocity(mass_star, a):\n",
    "    return np.sqrt(const.G.value*mass_star/a)"
   ]
  },
  {
   "cell_type": "code",
   "execution_count": 9,
   "id": "89fe86b1-5c43-46f8-8db2-4607add49038",
   "metadata": {},
   "outputs": [],
   "source": [
    "mass_pl = const.M_earth.value\n",
    "mass_star = const.M_sun.value * 0.3\n",
    "semi_major_axis = 0.2 * const.au.value #sada je u m\n",
    "#ekscentricitet je nula\n",
    "inclination = np.deg2rad([0, 30, 60, 90])"
   ]
  },
  {
   "cell_type": "code",
   "execution_count": 12,
   "id": "2f18045b-ac72-4027-bbf1-ff54e883ab2f",
   "metadata": {},
   "outputs": [],
   "source": [
    "RV_vec = [semi_amp(mass_star, semi_major_axis, x) for x in inclination]"
   ]
  },
  {
   "cell_type": "code",
   "execution_count": 18,
   "id": "dec47d9f-4985-4137-9807-b6e242a3d9c6",
   "metadata": {},
   "outputs": [
    {
     "data": {
      "text/plain": [
       "<matplotlib.collections.PathCollection at 0x7f3131e1c130>"
      ]
     },
     "execution_count": 18,
     "metadata": {},
     "output_type": "execute_result"
    },
    {
     "data": {
      "image/png": "[encoded data removed]",
      "text/plain": [
       "<Figure size 432x288 with 1 Axes>"
      ]
     },
     "metadata": {
      "needs_background": "light"
     },
     "output_type": "display_data"
    }
   ],
   "source": [
    "plt.scatter(np.rad2deg(inclination), RV_vec)\n",
    "#plt.scatter(0, semi_amp(const.M_sun.value, const.au.value, np.deg2rad(0)))"
   ]
  },
  {
   "cell_type": "code",
   "execution_count": null,
   "id": "c81ad89b-d566-48ee-a36e-81713d3c8779",
   "metadata": {},
   "outputs": [],
   "source": []
  }
 ],
 "metadata": {
  "kernelspec": {
   "display_name": "Python 3 (ipykernel)",
   "language": "python",
   "name": "python3"
  },
  "language_info": {
   "codemirror_mode": {
    "name": "ipython",
    "version": 3
   },
   "file_extension": ".py",
   "mimetype": "text/x-python",
   "name": "python",
   "nbconvert_exporter": "python",
   "pygments_lexer": "ipython3",
   "version": "3.9.7"
  }
 },
 "nbformat": 4,
 "nbformat_minor": 5
}
