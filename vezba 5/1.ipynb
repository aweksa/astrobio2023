{
 "cells": [
  {
   "cell_type": "code",
   "execution_count": 2,
   "id": "05464709-28a0-4dbd-8ba0-8fcf315e555f",
   "metadata": {},
   "outputs": [],
   "source": [
    "import astropy.constants as const\n",
    "import numpy as np"
   ]
  },
  {
   "cell_type": "code",
   "execution_count": 16,
   "id": "badd5510-16e0-4ae9-b91a-0b61d05b98d4",
   "metadata": {},
   "outputs": [],
   "source": [
    "period_halley = 75 #godina\n",
    "perihelion_halley = 0.60 #AU"
   ]
  },
  {
   "cell_type": "code",
   "execution_count": 24,
   "id": "1191a98d-9ce0-4d0e-951a-a121c0e998b4",
   "metadata": {},
   "outputs": [],
   "source": [
    "def foo(period, perih): #(godina, AU)\n",
    "    period = period*365.25*24*60*60\n",
    "    perih = perih*const.au.value\n",
    "    \n",
    "    a = (const.G.value*const.M_sun.value*period**2/(4*np.pi**2))**(1/3)\n",
    "    eccentricity = 1 - perih/a\n",
    "    \n",
    "    aphelion = 2*a - perih\n",
    "    aphelion = aphelion/const.au.value \n",
    "    a = a/const.au.value\n",
    "    return aphelion, eccentricity, a #(AU, bez jedinice, AU)"
   ]
  },
  {
   "cell_type": "code",
   "execution_count": 33,
   "id": "d90a0e02-7f86-44a8-aae5-55f4c2a67445",
   "metadata": {},
   "outputs": [],
   "source": [
    "def radijalne_brzine(period, e, a):\n",
    "    period = period*365.25*24*60*60 #sada je u sekundama\n",
    "    a = a * const.au.value/1000 #sada je u km\n",
    "    v_peri = 2*np.pi*a/period * ((1+e)/(1-e))**(1/2)\n",
    "    v_ap   = 2*np.pi*a/period * ((1-e)/(1+e))**(1/2)\n",
    "    return v_peri, v_ap"
   ]
  },
  {
   "cell_type": "code",
   "execution_count": 30,
   "id": "32abdd56-e3f6-4317-b91f-9c757e902b6a",
   "metadata": {},
   "outputs": [],
   "source": [
    "aphelion_halley, ecc_halley, a_halley = foo(period_halley, perihelion_halley)"
   ]
  },
  {
   "cell_type": "code",
   "execution_count": 31,
   "id": "b3a14eba-a4ad-47f1-bc91-106dca7a0ee8",
   "metadata": {},
   "outputs": [
    {
     "data": {
      "text/plain": [
       "34.96848519767569"
      ]
     },
     "execution_count": 31,
     "metadata": {},
     "output_type": "execute_result"
    }
   ],
   "source": [
    "aphelion_halley #AU"
   ]
  },
  {
   "cell_type": "code",
   "execution_count": 34,
   "id": "82c91351-5b19-4934-9456-6ff195f4be27",
   "metadata": {},
   "outputs": [],
   "source": [
    "v_peri_halley, v_ap_halley = radijalne_brzine(period_halley, ecc_halley, a_halley)"
   ]
  },
  {
   "cell_type": "code",
   "execution_count": 35,
   "id": "3dce276c-6850-4094-b19c-1b46857c3113",
   "metadata": {},
   "outputs": [
    {
     "data": {
      "text/plain": [
       "(53.91855050394413, 0.925151035839461)"
      ]
     },
     "execution_count": 35,
     "metadata": {},
     "output_type": "execute_result"
    }
   ],
   "source": [
    "v_peri_halley, v_ap_halley"
   ]
  }
 ],
 "metadata": {
  "kernelspec": {
   "display_name": "Python 3 (ipykernel)",
   "language": "python",
   "name": "python3"
  },
  "language_info": {
   "codemirror_mode": {
    "name": "ipython",
    "version": 3
   },
   "file_extension": ".py",
   "mimetype": "text/x-python",
   "name": "python",
   "nbconvert_exporter": "python",
   "pygments_lexer": "ipython3",
   "version": "3.9.12"
  }
 },
 "nbformat": 4,
 "nbformat_minor": 5
}
