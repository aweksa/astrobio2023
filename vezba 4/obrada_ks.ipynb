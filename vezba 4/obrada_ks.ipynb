{
 "cells": [
  {
   "cell_type": "code",
   "execution_count": 4,
   "id": "2fdc5f33",
   "metadata": {},
   "outputs": [],
   "source": [
    "import numpy as np\n",
    "import astropy.constants as const"
   ]
  },
  {
   "cell_type": "code",
   "execution_count": 2,
   "id": "9a7b61a1",
   "metadata": {},
   "outputs": [],
   "source": [
    "def R_planete(R_zvezde, delta_fluks, fluks):\n",
    "    return R_zvezde*np.sqrt(delta_fluks/fluks)\n",
    "#vraca u radijusima sunca"
   ]
  },
  {
   "cell_type": "code",
   "execution_count": 3,
   "id": "36bac43d-9e3d-4302-9309-61a48043f2bd",
   "metadata": {},
   "outputs": [],
   "source": [
    "def semimajor_axis(orbital_period, mass_star):\n",
    "    orbital_period = orbital_period * 24*60*60\n",
    "    mass_star = mass_star * const.M_sun.value\n",
    "    return ((orbital_period**2 * const.G.value * mass_star/(4*np.pi**2))**(1/3))/const.au.value\n",
    "#vraca u AU"
   ]
  },
  {
   "cell_type": "code",
   "execution_count": 9,
   "id": "01a0ff15-6ac4-4144-b11b-b9359aaab18e",
   "metadata": {},
   "outputs": [],
   "source": [
    "def period(tau, mass, radius_star, radius_planet):\n",
    "    radius_star = radius_star*const.R_sun.value\n",
    "    radius_planet = radius_planet*const.R_sun.value\n",
    "    mass = mass * const.M_sun.value\n",
    "    tau = tau*24*60*60\n",
    "    P = (tau*np.pi)**3 * const.G.value*mass/(4*np.pi**2)/(radius_star+radius_planet)**3\n",
    "    P = P/(24*60*60)\n",
    "    return P\n",
    "#Vraca u danima"
   ]
  },
  {
   "cell_type": "code",
   "execution_count": 21,
   "id": "42a552c4-bf64-45e2-b141-3f772c7d3b8e",
   "metadata": {},
   "outputs": [],
   "source": [
    "def obrada_krive_sjaja(pl_name, min_fluks, max_fluks, fluks, R_zvezde, M_zvezde, start_vreme, end_vreme):\n",
    "    R_pl = R_planete(R_zvezde, max_fluks - min_fluks, fluks)\n",
    "    P = period(end_vreme - start_vreme, M_zvezde, R_zvezde, R_pl)\n",
    "    a = semimajor_axis(P, M_zvezde)\n",
    "    print(f' Radijus planete {pl_name} u radijusima Jupitera je {R_pl}\\n period u danima je {P}\\n velika poluosa u AU je {a}')\n",
    "    return R_pl*const.R_sun/const.R_jup, P, a"
   ]
  },
  {
   "cell_type": "code",
   "execution_count": 24,
   "id": "ee51284d",
   "metadata": {},
   "outputs": [
    {
     "name": "stdout",
     "output_type": "stream",
     "text": [
      " Radijus planete Kepler-22 b u radijusima Jupitera je 0.04081562206234903\n",
      " period u danima je 27.311267244277243\n",
      " velika poluosa u AU je 0.1756923538615444\n"
     ]
    }
   ],
   "source": [
    "############# K-22\n",
    "pl_name = \"Kepler-22 b\"\n",
    "min_fluks = 3.152e5\n",
    "max_fluks = 3.154e5\n",
    "R_zvezde = 0.98\n",
    "M_zvezde = 0.97\n",
    "fluks = 1.153e5\n",
    "start_time = 423.4473\n",
    "end_time = 423.6822\n",
    "\n",
    "R_pl, P, a = obrada_krive_sjaja(pl_name, min_fluks, max_fluks, fluks, R_zvezde, M_zvezde, start_time, end_time)"
   ]
  },
  {
   "cell_type": "code",
   "execution_count": 29,
   "id": "9c4c6f82",
   "metadata": {},
   "outputs": [
    {
     "name": "stdout",
     "output_type": "stream",
     "text": [
      " Radijus planete Kepler-75 b u radijusima Jupitera je 0.11375556137470262\n",
      " period u danima je 1.142279004236847\n",
      " velika poluosa u AU je 0.02072349380791791\n"
     ]
    }
   ],
   "source": [
    "############# K-75 b (Hot Jupiter)\n",
    "pl_name = \"Kepler-75 b\"\n",
    "min_fluks = 11490.8447\n",
    "max_fluks = 11681.3853\n",
    "R_zvezde = 0.89\n",
    "M_zvezde = 0.91\n",
    "fluks = 11663.322\n",
    "start_time = 152.1823\n",
    "end_time = 152.2642\n",
    "\n",
    "R_pl, P, a = obrada_krive_sjaja(pl_name, min_fluks, max_fluks, fluks, R_zvezde, M_zvezde, start_time, end_time)"
   ]
  },
  {
   "cell_type": "code",
   "execution_count": 27,
   "id": "f0310d65-2950-4746-85ca-a3416f9ad497",
   "metadata": {},
   "outputs": [
    {
     "name": "stdout",
     "output_type": "stream",
     "text": [
      " Radijus planete Kepler-26 b u radijusima Jupitera je 0.03125302709857265\n",
      " period u danima je 2.324761596624971\n",
      " velika poluosa u AU je 0.027967345687880545\n"
     ]
    }
   ],
   "source": [
    "############# K-26 (Super-Earth)\n",
    "pl_name = \"Kepler-26 b\"\n",
    "min_fluks = 9936.15604\n",
    "max_fluks = 9973.57367\n",
    "R_zvezde = 0.51\n",
    "M_zvezde = 0.54\n",
    "fluks = 9963.97092\n",
    "start_time = 158.0645\n",
    "end_time = 158.1311\n",
    "\n",
    "R_pl, P, a = obrada_krive_sjaja(pl_name, min_fluks, max_fluks, fluks, R_zvezde, M_zvezde, start_time, end_time)"
   ]
  },
  {
   "cell_type": "code",
   "execution_count": null,
   "id": "3424520e-d12f-4990-a107-43e7c363e696",
   "metadata": {},
   "outputs": [],
   "source": []
  }
 ],
 "metadata": {
  "kernelspec": {
   "display_name": "Python 3 (ipykernel)",
   "language": "python",
   "name": "python3"
  },
  "language_info": {
   "codemirror_mode": {
    "name": "ipython",
    "version": 3
   },
   "file_extension": ".py",
   "mimetype": "text/x-python",
   "name": "python",
   "nbconvert_exporter": "python",
   "pygments_lexer": "ipython3",
   "version": "3.9.7"
  }
 },
 "nbformat": 4,
 "nbformat_minor": 5
}
