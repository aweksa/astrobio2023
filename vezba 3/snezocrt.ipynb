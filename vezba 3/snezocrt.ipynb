{
 "cells": [
  {
   "cell_type": "code",
   "execution_count": 59,
   "id": "ce3664f1",
   "metadata": {},
   "outputs": [],
   "source": [
    "import numpy as np \n",
    "import astropy.constants as const\n",
    "import matplotlib.pyplot as plt\n",
    "from scipy import interpolate\n"
   ]
  },
  {
   "cell_type": "code",
   "execution_count": 23,
   "id": "4a6624df",
   "metadata": {},
   "outputs": [],
   "source": [
    "T_star = 4350 #K\n",
    "M_star = 1*const.M_sun.value    #M_sol\n",
    "R_star = 1.7*const.R_sun.value  #R_sol\n",
    "sigma = 3300*(0.001/10e-3)  #g/cm^2"
   ]
  },
  {
   "cell_type": "code",
   "execution_count": 3,
   "id": "563faf70",
   "metadata": {},
   "outputs": [],
   "source": [
    "def omega_k(r):\n",
    "    return (const.G.value*M_star/r**3)**(1/2) #proveri jedinie"
   ]
  },
  {
   "cell_type": "code",
   "execution_count": 4,
   "id": "447d7177",
   "metadata": {},
   "outputs": [],
   "source": [
    "def c_s():\n",
    "    return (const.k_B.value*T_star/2.3/const.m_p.value)**(1/2) ###PROMENI JEDINICE(ako treba)"
   ]
  },
  {
   "cell_type": "code",
   "execution_count": 5,
   "id": "96784760",
   "metadata": {},
   "outputs": [],
   "source": [
    "def nu(r):\n",
    "    alpha = 10e-3\n",
    "    return alpha * c_s()**2/omega_k(r)"
   ]
  },
  {
   "cell_type": "code",
   "execution_count": 6,
   "id": "10f3d98e",
   "metadata": {},
   "outputs": [],
   "source": [
    "def M_dot(r):\n",
    "    return 3*np.pi*sigma*nu(r)"
   ]
  },
  {
   "cell_type": "code",
   "execution_count": 7,
   "id": "905493c2",
   "metadata": {},
   "outputs": [],
   "source": [
    "def T_eff_acc(r):\n",
    "    return (3/8/np.pi*const.G.value*M_star*M_dot(r)/r**3*(1-np.sqrt(R_star/r)))**(1/4)"
   ]
  },
  {
   "cell_type": "code",
   "execution_count": 8,
   "id": "d80c1362",
   "metadata": {},
   "outputs": [],
   "source": [
    "def T_mid_acc(r):\n",
    "    tau_r = r**(-33/14)\n",
    "    return (3/4*(tau_r+2/3)*T_eff_acc(r)**4)**(1/4)"
   ]
  },
  {
   "cell_type": "code",
   "execution_count": 9,
   "id": "2233e1a2",
   "metadata": {},
   "outputs": [],
   "source": [
    "def T_irr(r):\n",
    "    alpha = 0.4*R_star/r\n",
    "    return ((alpha/2)*R_star**2/r**2*T_star**4)**(1/4)\n",
    "    "
   ]
  },
  {
   "cell_type": "code",
   "execution_count": 10,
   "id": "1943a98f",
   "metadata": {},
   "outputs": [],
   "source": [
    "def T_mid(r):\n",
    "    return (T_mid_acc(r)**4 + T_irr(r)**4)**(1/4)"
   ]
  },
  {
   "cell_type": "code",
   "execution_count": 30,
   "id": "dcb14ede",
   "metadata": {},
   "outputs": [],
   "source": [
    "r_niz = np.linspace(0.05, 10, 100)*const.au.value"
   ]
  },
  {
   "cell_type": "code",
   "execution_count": 31,
   "id": "ac25435b",
   "metadata": {},
   "outputs": [],
   "source": [
    "T_niz = [T_mid(x) for x in r_niz]"
   ]
  },
  {
   "cell_type": "code",
   "execution_count": 29,
   "id": "41bf4a46",
   "metadata": {},
   "outputs": [
    {
     "data": {
      "text/plain": [
       "[729.421209571165,\n",
       " 69.20106657632138,\n",
       " 41.82775147418344,\n",
       " 31.031724086444363,\n",
       " 25.079190788626825,\n",
       " 21.250062368668683,\n",
       " 18.55501646511648,\n",
       " 16.54244241649504,\n",
       " 14.97501361372915,\n",
       " 13.715335463120647]"
      ]
     },
     "execution_count": 29,
     "metadata": {},
     "output_type": "execute_result"
    }
   ],
   "source": [
    "T_niz"
   ]
  },
  {
   "cell_type": "code",
   "execution_count": 61,
   "id": "2aa73009",
   "metadata": {},
   "outputs": [],
   "source": [
    "f = interpolate.interp1d(T_niz, r_niz)"
   ]
  },
  {
   "cell_type": "code",
   "execution_count": 66,
   "id": "ca69cadd",
   "metadata": {},
   "outputs": [],
   "source": [
    "snowline = f(170)/const.au.value"
   ]
  },
  {
   "cell_type": "code",
   "execution_count": 70,
   "id": "0aba1478",
   "metadata": {},
   "outputs": [
    {
     "data": {
      "text/plain": [
       "(0.2, 0.6)"
      ]
     },
     "execution_count": 70,
     "metadata": {},
     "output_type": "execute_result"
    },
    {
     "data": {
      "image/png": "[encoded data removed]",
      "text/plain": [
       "<Figure size 432x288 with 1 Axes>"
      ]
     },
     "metadata": {
      "needs_background": "light"
     },
     "output_type": "display_data"
    }
   ],
   "source": [
    "plt.plot(r_niz/const.au.value, T_niz)\n",
    "plt.hlines(170, 0, 10, color='crimson', linestyle = 'dotted')\n",
    "plt.scatter(snowline, 170, marker = 'o', color='darkgreen')\n",
    "plt.xlim(0.2, 0.6)"
   ]
  },
  {
   "cell_type": "code",
   "execution_count": null,
   "id": "b3872020",
   "metadata": {},
   "outputs": [],
   "source": []
  }
 ],
 "metadata": {
  "kernelspec": {
   "display_name": "Python 3 (ipykernel)",
   "language": "python",
   "name": "python3"
  },
  "language_info": {
   "codemirror_mode": {
    "name": "ipython",
    "version": 3
   },
   "file_extension": ".py",
   "mimetype": "text/x-python",
   "name": "python",
   "nbconvert_exporter": "python",
   "pygments_lexer": "ipython3",
   "version": "3.9.7"
  }
 },
 "nbformat": 4,
 "nbformat_minor": 5
}
